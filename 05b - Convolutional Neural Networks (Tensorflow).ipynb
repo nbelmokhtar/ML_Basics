{
  "cells": [
    {
      "cell_type": "markdown",
      "source": [
        "# Convolutional Neural Networks with TensorFlow\n",
        "\n",
        "\"Deep Learning\" is a general term that usually refers to the use of neural networks with multiple layers that synthesize the way the human brain learns and makes decisions. A convolutional neural network is a kind of neural network that extracts *features* from matrices of numeric values (often images) by convolving multiple filters over the matrix values to apply weights and identify patterns, such as edges, corners, and so on in an image. The numeric representations of these patterns are then passed to a fully-connected neural network layer to map the features to specific classes.\n",
        "\n",
        "There are several commonly used frameworks for creating CNNs. In this notebook, we'll build a simple example CNN using TensorFlow.\n",
        "\n",
        "## Install and import libraries\n",
        "\n",
        "First, let's install and import the TensorFlow libraries we'll need."
      ],
      "metadata": {}
    },
    {
      "cell_type": "code",
      "source": [
        "!pip install --upgrade tensorflow"
      ],
      "outputs": [
        {
          "output_type": "stream",
          "name": "stdout",
          "text": [
            "Requirement already up-to-date: tensorflow in /anaconda/envs/azureml_py36/lib/python3.6/site-packages (2.4.1)\n",
            "Requirement already satisfied, skipping upgrade: six~=1.15.0 in /anaconda/envs/azureml_py36/lib/python3.6/site-packages (from tensorflow) (1.15.0)\n",
            "Requirement already satisfied, skipping upgrade: grpcio~=1.32.0 in /anaconda/envs/azureml_py36/lib/python3.6/site-packages (from tensorflow) (1.32.0)\n",
            "Requirement already satisfied, skipping upgrade: wheel~=0.35 in /anaconda/envs/azureml_py36/lib/python3.6/site-packages (from tensorflow) (0.35.1)\n",
            "Requirement already satisfied, skipping upgrade: h5py~=2.10.0 in /anaconda/envs/azureml_py36/lib/python3.6/site-packages (from tensorflow) (2.10.0)\n",
            "Requirement already satisfied, skipping upgrade: opt-einsum~=3.3.0 in /anaconda/envs/azureml_py36/lib/python3.6/site-packages (from tensorflow) (3.3.0)\n",
            "Requirement already satisfied, skipping upgrade: numpy~=1.19.2 in /anaconda/envs/azureml_py36/lib/python3.6/site-packages (from tensorflow) (1.19.5)\n",
            "Requirement already satisfied, skipping upgrade: gast==0.3.3 in /anaconda/envs/azureml_py36/lib/python3.6/site-packages (from tensorflow) (0.3.3)\n",
            "Requirement already satisfied, skipping upgrade: google-pasta~=0.2 in /anaconda/envs/azureml_py36/lib/python3.6/site-packages (from tensorflow) (0.2.0)\n",
            "Requirement already satisfied, skipping upgrade: tensorboard~=2.4 in /anaconda/envs/azureml_py36/lib/python3.6/site-packages (from tensorflow) (2.4.1)\n",
            "Requirement already satisfied, skipping upgrade: tensorflow-estimator<2.5.0,>=2.4.0 in /anaconda/envs/azureml_py36/lib/python3.6/site-packages (from tensorflow) (2.4.0)\n",
            "Requirement already satisfied, skipping upgrade: absl-py~=0.10 in /anaconda/envs/azureml_py36/lib/python3.6/site-packages (from tensorflow) (0.12.0)\n",
            "Requirement already satisfied, skipping upgrade: termcolor~=1.1.0 in /anaconda/envs/azureml_py36/lib/python3.6/site-packages (from tensorflow) (1.1.0)\n",
            "Requirement already satisfied, skipping upgrade: wrapt~=1.12.1 in /anaconda/envs/azureml_py36/lib/python3.6/site-packages (from tensorflow) (1.12.1)\n",
            "Requirement already satisfied, skipping upgrade: astunparse~=1.6.3 in /anaconda/envs/azureml_py36/lib/python3.6/site-packages (from tensorflow) (1.6.3)\n",
            "Requirement already satisfied, skipping upgrade: keras-preprocessing~=1.1.2 in /anaconda/envs/azureml_py36/lib/python3.6/site-packages (from tensorflow) (1.1.2)\n",
            "Requirement already satisfied, skipping upgrade: protobuf>=3.9.2 in /anaconda/envs/azureml_py36/lib/python3.6/site-packages (from tensorflow) (3.15.4)\n",
            "Requirement already satisfied, skipping upgrade: typing-extensions~=3.7.4 in /anaconda/envs/azureml_py36/lib/python3.6/site-packages (from tensorflow) (3.7.4.3)\n",
            "Requirement already satisfied, skipping upgrade: flatbuffers~=1.12.0 in /anaconda/envs/azureml_py36/lib/python3.6/site-packages (from tensorflow) (1.12)\n",
            "Requirement already satisfied, skipping upgrade: requests<3,>=2.21.0 in /anaconda/envs/azureml_py36/lib/python3.6/site-packages (from tensorboard~=2.4->tensorflow) (2.25.1)\n",
            "Requirement already satisfied, skipping upgrade: google-auth<2,>=1.6.3 in /anaconda/envs/azureml_py36/lib/python3.6/site-packages (from tensorboard~=2.4->tensorflow) (1.27.1)\n",
            "Requirement already satisfied, skipping upgrade: google-auth-oauthlib<0.5,>=0.4.1 in /anaconda/envs/azureml_py36/lib/python3.6/site-packages (from tensorboard~=2.4->tensorflow) (0.4.3)\n",
            "Requirement already satisfied, skipping upgrade: tensorboard-plugin-wit>=1.6.0 in /anaconda/envs/azureml_py36/lib/python3.6/site-packages (from tensorboard~=2.4->tensorflow) (1.8.0)\n",
            "Requirement already satisfied, skipping upgrade: markdown>=2.6.8 in /anaconda/envs/azureml_py36/lib/python3.6/site-packages (from tensorboard~=2.4->tensorflow) (3.3.4)\n",
            "Requirement already satisfied, skipping upgrade: werkzeug>=0.11.15 in /anaconda/envs/azureml_py36/lib/python3.6/site-packages (from tensorboard~=2.4->tensorflow) (1.0.1)\n",
            "Requirement already satisfied, skipping upgrade: setuptools>=41.0.0 in /anaconda/envs/azureml_py36/lib/python3.6/site-packages (from tensorboard~=2.4->tensorflow) (50.3.0)\n",
            "Requirement already satisfied, skipping upgrade: chardet<5,>=3.0.2 in /anaconda/envs/azureml_py36/lib/python3.6/site-packages (from requests<3,>=2.21.0->tensorboard~=2.4->tensorflow) (4.0.0)\n",
            "Requirement already satisfied, skipping upgrade: certifi>=2017.4.17 in /anaconda/envs/azureml_py36/lib/python3.6/site-packages (from requests<3,>=2.21.0->tensorboard~=2.4->tensorflow) (2020.12.5)\n",
            "Requirement already satisfied, skipping upgrade: urllib3<1.27,>=1.21.1 in /anaconda/envs/azureml_py36/lib/python3.6/site-packages (from requests<3,>=2.21.0->tensorboard~=2.4->tensorflow) (1.25.11)\n",
            "Requirement already satisfied, skipping upgrade: idna<3,>=2.5 in /anaconda/envs/azureml_py36/lib/python3.6/site-packages (from requests<3,>=2.21.0->tensorboard~=2.4->tensorflow) (2.10)\n",
            "Requirement already satisfied, skipping upgrade: cachetools<5.0,>=2.0.0 in /anaconda/envs/azureml_py36/lib/python3.6/site-packages (from google-auth<2,>=1.6.3->tensorboard~=2.4->tensorflow) (4.2.1)\n",
            "Requirement already satisfied, skipping upgrade: pyasn1-modules>=0.2.1 in /anaconda/envs/azureml_py36/lib/python3.6/site-packages (from google-auth<2,>=1.6.3->tensorboard~=2.4->tensorflow) (0.2.8)\n",
            "Requirement already satisfied, skipping upgrade: rsa<5,>=3.1.4; python_version >= \"3.6\" in /anaconda/envs/azureml_py36/lib/python3.6/site-packages (from google-auth<2,>=1.6.3->tensorboard~=2.4->tensorflow) (4.7.2)\n",
            "Requirement already satisfied, skipping upgrade: requests-oauthlib>=0.7.0 in /anaconda/envs/azureml_py36/lib/python3.6/site-packages (from google-auth-oauthlib<0.5,>=0.4.1->tensorboard~=2.4->tensorflow) (1.3.0)\n",
            "Requirement already satisfied, skipping upgrade: importlib-metadata; python_version < \"3.8\" in /anaconda/envs/azureml_py36/lib/python3.6/site-packages (from markdown>=2.6.8->tensorboard~=2.4->tensorflow) (3.7.0)\n",
            "Requirement already satisfied, skipping upgrade: pyasn1<0.5.0,>=0.4.6 in /anaconda/envs/azureml_py36/lib/python3.6/site-packages (from pyasn1-modules>=0.2.1->google-auth<2,>=1.6.3->tensorboard~=2.4->tensorflow) (0.4.8)\n",
            "Requirement already satisfied, skipping upgrade: oauthlib>=3.0.0 in /anaconda/envs/azureml_py36/lib/python3.6/site-packages (from requests-oauthlib>=0.7.0->google-auth-oauthlib<0.5,>=0.4.1->tensorboard~=2.4->tensorflow) (3.1.0)\n",
            "Requirement already satisfied, skipping upgrade: zipp>=0.5 in /anaconda/envs/azureml_py36/lib/python3.6/site-packages (from importlib-metadata; python_version < \"3.8\"->markdown>=2.6.8->tensorboard~=2.4->tensorflow) (3.4.0)\n"
          ]
        }
      ],
      "execution_count": 1,
      "metadata": {}
    },
    {
      "cell_type": "code",
      "source": [
        "import tensorflow\n",
        "from  tensorflow import keras\n",
        "print('TensorFlow version:',tensorflow.__version__)\n",
        "print('Keras version:',keras.__version__)"
      ],
      "outputs": [
        {
          "output_type": "stream",
          "name": "stdout",
          "text": [
            "TensorFlow version: 2.4.1\n",
            "Keras version: 2.4.0\n"
          ]
        }
      ],
      "execution_count": 2,
      "metadata": {
        "scrolled": false,
        "tags": [],
        "gather": {
          "logged": 1616672031452
        }
      }
    },
    {
      "cell_type": "markdown",
      "source": [
        "## Explore the data\n",
        "\n",
        "In this exercise, you'll train a CNN-based classification model that can classify images of geometric shapes. Let's take a look at the classes of shape the model needs to identify."
      ],
      "metadata": {}
    },
    {
      "cell_type": "code",
      "source": [
        "import matplotlib.pyplot as plt\n",
        "import matplotlib.image as mpimg\n",
        "import os\n",
        "%matplotlib inline\n",
        "\n",
        "# The images are in the data/shapes folder\n",
        "data_folder = 'data/shapes'\n",
        "\n",
        "# Get the class names\n",
        "classes = os.listdir(data_folder)\n",
        "classes.sort()\n",
        "print(len(classes), 'classes:')\n",
        "print(classes)\n",
        "\n",
        "# Show the first image in each folder\n",
        "fig = plt.figure(figsize=(8, 12))\n",
        "i = 0\n",
        "for sub_dir in os.listdir(data_folder):\n",
        "    i+=1\n",
        "    img_file = os.listdir(os.path.join(data_folder,sub_dir))[0]\n",
        "    img_path = os.path.join(data_folder, sub_dir, img_file)\n",
        "    img = mpimg.imread(img_path)\n",
        "    a=fig.add_subplot(1, len(classes),i)\n",
        "    a.axis('off')\n",
        "    imgplot = plt.imshow(img)\n",
        "    a.set_title(img_file)\n",
        "plt.show()"
      ],
      "outputs": [
        {
          "output_type": "stream",
          "name": "stdout",
          "text": [
            "3 classes:\n",
            "['circle', 'square', 'triangle']\n"
          ]
        },
        {
          "output_type": "display_data",
          "data": {
            "text/plain": "<Figure size 576x864 with 3 Axes>",
            "image/png": "[encoded data removed]"
          },
          "metadata": {
            "needs_background": "light"
          }
        }
      ],
      "execution_count": 3,
      "metadata": {
        "gather": {
          "logged": 1616672036072
        }
      }
    },
    {
      "cell_type": "markdown",
      "source": [
        "## Prepare the data\n",
        "\n",
        "Before we can train the model, we need to prepare the data. We'll divide the feature values by 255 to normalize them as floating point values between 0 and 1, and we'll split the data so that we can use 70% of it to train the model, and hold back 30% to validate it. When loading the data, the data generator will assing \"hot-encoded\" numeric labels to indicate which class each image belongs to based on the subfolders in which the data is stored. In this case, there are three subfolders - *circle*, *square*, and *triangle*, so the labels will consist of three *0* or *1* values indicating which of these classes is associated with the image - for example the label [0 1 0] indicates that the image belongs to the second class (*square*)."
      ],
      "metadata": {}
    },
    {
      "cell_type": "code",
      "source": [
        "from tensorflow.keras.preprocessing.image import ImageDataGenerator\n",
        "\n",
        "img_size = (128, 128)\n",
        "batch_size = 30\n",
        "\n",
        "print(\"Getting Data...\")\n",
        "datagen = ImageDataGenerator(rescale=1./255, # normalize pixel values\n",
        "                             validation_split=0.3) # hold back 30% of the images for validation\n",
        "\n",
        "print(\"Preparing training dataset...\")\n",
        "train_generator = datagen.flow_from_directory(\n",
        "    data_folder,\n",
        "    target_size=img_size,\n",
        "    batch_size=batch_size,\n",
        "    class_mode='categorical',\n",
        "    subset='training') # set as training data\n",
        "\n",
        "print(\"Preparing validation dataset...\")\n",
        "validation_generator = datagen.flow_from_directory(\n",
        "    data_folder,\n",
        "    target_size=img_size,\n",
        "    batch_size=batch_size,\n",
        "    class_mode='categorical',\n",
        "    subset='validation') # set as validation data\n",
        "\n",
        "classnames = list(train_generator.class_indices.keys())\n",
        "print('Data generators ready')"
      ],
      "outputs": [
        {
          "output_type": "stream",
          "name": "stdout",
          "text": [
            "Getting Data...\n",
            "Preparing training dataset...\n",
            "Found 840 images belonging to 3 classes.\n",
            "Preparing validation dataset...\n",
            "Found 360 images belonging to 3 classes.\n",
            "Data generators ready\n"
          ]
        }
      ],
      "execution_count": 4,
      "metadata": {
        "tags": [],
        "gather": {
          "logged": 1616672042526
        }
      }
    },
    {
      "cell_type": "markdown",
      "source": [
        "## Define the CNN\n",
        "\n",
        "Now we're ready to create our model. This involves defining the layers for our CNN, and compiling them for multi-class classification."
      ],
      "metadata": {}
    },
    {
      "cell_type": "code",
      "source": [
        "# Define a CNN classifier network\n",
        "from tensorflow.keras.models import Sequential\n",
        "from tensorflow.keras.layers import Conv2D, MaxPooling2D, Dropout, Flatten, Dense\n",
        "\n",
        "# Define the model as a sequence of layers\n",
        "model = Sequential()\n",
        "\n",
        "# The input layer accepts an image and applies a convolution that uses 32 6x6 filters and a rectified linear unit activation function\n",
        "model.add(Conv2D(32, (6, 6), input_shape=train_generator.image_shape, activation='relu'))\n",
        "\n",
        "# Next we'll add a max pooling layer with a 2x2 patch\n",
        "model.add(MaxPooling2D(pool_size=(2,2)))\n",
        "\n",
        "# We can add as many layers as we think necessary - here we'll add another convolution and max pooling layer\n",
        "model.add(Conv2D(32, (6, 6), activation='relu'))\n",
        "model.add(MaxPooling2D(pool_size=(2, 2)))\n",
        "\n",
        "# And another set\n",
        "model.add(Conv2D(32, (6, 6), activation='relu'))\n",
        "model.add(MaxPooling2D(pool_size=(2, 2)))\n",
        "\n",
        "# A dropout layer randomly drops some nodes to reduce inter-dependencies (which can cause over-fitting)\n",
        "model.add(Dropout(0.2))\n",
        "\n",
        "# Flatten the feature maps \n",
        "model.add(Flatten())\n",
        "\n",
        "# Generate a fully-cpnnected output layer with a predicted probability for each class\n",
        "# (softmax ensures all probabilities sum to 1)\n",
        "model.add(Dense(train_generator.num_classes, activation='softmax'))\n",
        "\n",
        "# With the layers defined, we can now compile the model for categorical (multi-class) classification\n",
        "model.compile(loss='categorical_crossentropy',\n",
        "              optimizer='adam',\n",
        "              metrics=['accuracy'])\n",
        "\n",
        "print(model.summary())"
      ],
      "outputs": [
        {
          "output_type": "stream",
          "name": "stdout",
          "text": [
            "Model: \"sequential\"\n",
            "_________________________________________________________________\n",
            "Layer (type)                 Output Shape              Param #   \n",
            "=================================================================\n",
            "conv2d (Conv2D)              (None, 123, 123, 32)      3488      \n",
            "_________________________________________________________________\n",
            "max_pooling2d (MaxPooling2D) (None, 61, 61, 32)        0         \n",
            "_________________________________________________________________\n",
            "conv2d_1 (Conv2D)            (None, 56, 56, 32)        36896     \n",
            "_________________________________________________________________\n",
            "max_pooling2d_1 (MaxPooling2 (None, 28, 28, 32)        0         \n",
            "_________________________________________________________________\n",
            "conv2d_2 (Conv2D)            (None, 23, 23, 32)        36896     \n",
            "_________________________________________________________________\n",
            "max_pooling2d_2 (MaxPooling2 (None, 11, 11, 32)        0         \n",
            "_________________________________________________________________\n",
            "dropout (Dropout)            (None, 11, 11, 32)        0         \n",
            "_________________________________________________________________\n",
            "flatten (Flatten)            (None, 3872)              0         \n",
            "_________________________________________________________________\n",
            "dense (Dense)                (None, 3)                 11619     \n",
            "=================================================================\n",
            "Total params: 88,899\n",
            "Trainable params: 88,899\n",
            "Non-trainable params: 0\n",
            "_________________________________________________________________\n",
            "None\n"
          ]
        }
      ],
      "execution_count": 5,
      "metadata": {
        "tags": [],
        "gather": {
          "logged": 1616672047798
        }
      }
    },
    {
      "cell_type": "markdown",
      "source": [
        "## Train the model\n",
        "\n",
        "With the layers of the CNN defined, we're ready to train the model using our image data. In the example below, we use 5 iterations (*epochs*) to train the model in 30-image batches, holding back 30% of the data for validation. After each epoch, the loss function measures the error (*loss*) in the model and adjusts the weights (which were randomly generated for the first iteration) to try to improve accuracy. \n",
        "\n",
        "> **Note**: We're only using 5 epochs to minimze the training time for this simple example. A real-world CNN is usually trained over more epochs than this. CNN model training is processor-intensive, involving a lot of matrix and vector-based operations; so it's recommended to perform this on a system that can leverage GPUs, which are optimized for these kinds of calculation. This will take a while to complete on a CPU-based system - status will be displayed as the training progresses."
      ],
      "metadata": {}
    },
    {
      "cell_type": "code",
      "source": [
        "# Train the model over 5 epochs using 30-image batches and using the validation holdout dataset for validation\n",
        "num_epochs = 5\n",
        "history = model.fit(\n",
        "    train_generator,\n",
        "    steps_per_epoch = train_generator.samples // batch_size,\n",
        "    validation_data = validation_generator, \n",
        "    validation_steps = validation_generator.samples // batch_size,\n",
        "    epochs = num_epochs)"
      ],
      "outputs": [
        {
          "output_type": "stream",
          "name": "stdout",
          "text": [
            "Epoch 1/5\n",
            "28/28 [==============================] - 32s 1s/step - loss: 0.9048 - accuracy: 0.5302 - val_loss: 0.3061 - val_accuracy: 0.8944\b\b\b\b\b\b\b\b\b\b\b\b\b\b\b\b\b\b\b\b\b\b\b\b\b\b\b\b\b\b\b\b\b\b\b\b\b\b\n",
            "Epoch 2/5\n",
            "28/28 [==============================] - 30s 1s/step - loss: 0.2403 - accuracy: 0.8975 - val_loss: 0.0489 - val_accuracy: 0.9917\b\b\b\b\b\b\b\b\b\b\b\b\b\b\b\b\b\b\b\b\b\b\b\b\b\b\b\b\b\b\b\b\b\b\b\b\b\b\n",
            "Epoch 3/5\n",
            "28/28 [==============================] - 30s 1s/step - loss: 0.0679 - accuracy: 0.9796 - val_loss: 0.0109 - val_accuracy: 1.0000\b\b\b\b\b\b\b\b\b\b\b\b\b\b\b\b\b\b\b\b\b\b\b\b\b\b\b\b\b\b\b\b\b\b\b\b\b\b\n",
            "Epoch 4/5\n",
            "28/28 [==============================] - 30s 1s/step - loss: 0.0128 - accuracy: 0.9972 - val_loss: 0.0050 - val_accuracy: 1.0000\b\b\b\b\b\b\b\b\b\b\b\b\b\b\b\b\b\b\b\b\b\b\b\b\b\b\b\b\b\b\b\b\b\b\b\b\b\b\n",
            "Epoch 5/5\n",
            "28/28 [==============================] - 32s 1s/step - loss: 0.0156 - accuracy: 0.9925 - val_loss: 0.0061 - val_accuracy: 1.0000\b\b\b\b\b\b\b\b\b\b\b\b\b\b\b\b\b\b\b\b\b\b\b\b\b\b\b\b\b\b\b\b\b\b\b\b\b\b\n"
          ]
        }
      ],
      "execution_count": 6,
      "metadata": {
        "tags": [],
        "gather": {
          "logged": 1616672251140
        }
      }
    },
    {
      "cell_type": "markdown",
      "source": [
        "## View the loss history\n",
        "\n",
        "We tracked average training and validation loss history for each epoch. We can plot these to verify that loss reduced as the model was trained, and to detect *overfitting* (which is indicated by a continued drop in training loss after validation loss has levelled out or started to increase)."
      ],
      "metadata": {}
    },
    {
      "cell_type": "code",
      "source": [
        "%matplotlib inline\n",
        "from matplotlib import pyplot as plt\n",
        "\n",
        "epoch_nums = range(1,num_epochs+1)\n",
        "training_loss = history.history[\"loss\"]\n",
        "validation_loss = history.history[\"val_loss\"]\n",
        "plt.plot(epoch_nums, training_loss)\n",
        "plt.plot(epoch_nums, validation_loss)\n",
        "plt.xlabel('epoch')\n",
        "plt.ylabel('loss')\n",
        "plt.legend(['training', 'validation'], loc='upper right')\n",
        "plt.show()"
      ],
      "outputs": [
        {
          "output_type": "display_data",
          "data": {
            "text/plain": "<Figure size 432x288 with 1 Axes>",
            "image/png": "[encoded data removed]"
          },
          "metadata": {
            "needs_background": "light"
          }
        }
      ],
      "execution_count": 7,
      "metadata": {
        "gather": {
          "logged": 1616672259290
        }
      }
    },
    {
      "cell_type": "markdown",
      "source": [
        "## Evaluate model performance\n",
        "\n",
        "We can see the final accuracy based on the test data, but typically we'll want to explore performance metrics in a little more depth. Let's plot a confusion matrix to see how well the model is predicting each class."
      ],
      "metadata": {}
    },
    {
      "cell_type": "code",
      "source": [
        "# Tensorflow doesn't have a built-in confusion matrix metric, so we'll use SciKit-Learn\n",
        "import numpy as np\n",
        "from sklearn.metrics import confusion_matrix\n",
        "import matplotlib.pyplot as plt\n",
        "%matplotlib inline\n",
        "\n",
        "print(\"Generating predictions from validation data...\")\n",
        "# Get the image and label arrays for the first batch of validation data\n",
        "x_test = validation_generator[0][0]\n",
        "y_test = validation_generator[0][1]\n",
        "\n",
        "# Use the model to predict the class\n",
        "class_probabilities = model.predict(x_test)\n",
        "\n",
        "# The model returns a probability value for each class\n",
        "# The one with the highest probability is the predicted class\n",
        "predictions = np.argmax(class_probabilities, axis=1)\n",
        "\n",
        "# The actual labels are hot encoded (e.g. [0 1 0], so get the one with the value 1\n",
        "true_labels = np.argmax(y_test, axis=1)\n",
        "\n",
        "# Plot the confusion matrix\n",
        "cm = confusion_matrix(true_labels, predictions)\n",
        "plt.imshow(cm, interpolation=\"nearest\", cmap=plt.cm.Blues)\n",
        "plt.colorbar()\n",
        "tick_marks = np.arange(len(classnames))\n",
        "plt.xticks(tick_marks, classnames, rotation=85)\n",
        "plt.yticks(tick_marks, classnames)\n",
        "plt.xlabel(\"Predicted Shape\")\n",
        "plt.ylabel(\"Actual Shape\")\n",
        "plt.show()"
      ],
      "outputs": [
        {
          "output_type": "stream",
          "name": "stdout",
          "text": [
            "Generating predictions from validation data...\n"
          ]
        },
        {
          "output_type": "display_data",
          "data": {
            "text/plain": "<Figure size 432x288 with 2 Axes>",
            "image/png": "[encoded data removed]"
          },
          "metadata": {
            "needs_background": "light"
          }
        }
      ],
      "execution_count": 8,
      "metadata": {
        "tags": [],
        "gather": {
          "logged": 1616672266131
        }
      }
    },
    {
      "cell_type": "markdown",
      "source": [
        "## Save the Trained model\n",
        "\n",
        "Now that you've trained a working model, you can save it (including the trained weights) for use later."
      ],
      "metadata": {}
    },
    {
      "cell_type": "code",
      "source": [
        "# Save the trained model\n",
        "modelFileName = 'models/shape_classifier.h5'\n",
        "model.save(modelFileName)\n",
        "del model  # deletes the existing model variable\n",
        "print('model saved as', modelFileName)"
      ],
      "outputs": [
        {
          "output_type": "stream",
          "name": "stdout",
          "text": [
            "model saved as models/shape_classifier.h5\n"
          ]
        }
      ],
      "execution_count": 9,
      "metadata": {
        "gather": {
          "logged": 1616672277328
        }
      }
    },
    {
      "cell_type": "markdown",
      "source": [
        "## Use the trained model\n",
        "\n",
        "When you have a new image, you can use the saved model to predict its class."
      ],
      "metadata": {}
    },
    {
      "cell_type": "code",
      "source": [
        "from tensorflow.keras import models\n",
        "import numpy as np\n",
        "from random import randint\n",
        "import os\n",
        "%matplotlib inline\n",
        "\n",
        "# Function to predict the class of an image\n",
        "def predict_image(classifier, image):\n",
        "    from tensorflow import convert_to_tensor\n",
        "    # The model expects a batch of images as input, so we'll create an array of 1 image\n",
        "    imgfeatures = img.reshape(1, img.shape[0], img.shape[1], img.shape[2])\n",
        "\n",
        "    # We need to format the input to match the training data\n",
        "    # The generator loaded the values as floating point numbers\n",
        "    # and normalized the pixel values, so...\n",
        "    imgfeatures = imgfeatures.astype('float32')\n",
        "    imgfeatures /= 255\n",
        "    \n",
        "    # Use the model to predict the image class\n",
        "    class_probabilities = classifier.predict(imgfeatures)\n",
        "    \n",
        "    # Find the class predictions with the highest predicted probability\n",
        "    index = int(np.argmax(class_probabilities, axis=1)[0])\n",
        "    return index\n",
        "\n",
        "# Function to create a random image (of a square, circle, or triangle)\n",
        "def create_image (size, shape):\n",
        "    from random import randint\n",
        "    import numpy as np\n",
        "    from PIL import Image, ImageDraw\n",
        "    \n",
        "    xy1 = randint(10,40)\n",
        "    xy2 = randint(60,100)\n",
        "    col = (randint(0,200), randint(0,200), randint(0,200))\n",
        "\n",
        "    img = Image.new(\"RGB\", size, (255, 255, 255))\n",
        "    draw = ImageDraw.Draw(img)\n",
        "    \n",
        "    if shape == 'circle':\n",
        "        draw.ellipse([(xy1,xy1), (xy2,xy2)], fill=col)\n",
        "    elif shape == 'triangle':\n",
        "        draw.polygon([(xy1,xy1), (xy2,xy2), (xy2,xy1)], fill=col)\n",
        "    else: # square\n",
        "        draw.rectangle([(xy1,xy1), (xy2,xy2)], fill=col)\n",
        "    del draw\n",
        "    \n",
        "    return np.array(img)\n",
        "\n",
        "# Create a random test image\n",
        "classnames = os.listdir(os.path.join('data', 'shapes'))\n",
        "classnames.sort()\n",
        "img = create_image ((128,128), classnames[randint(0, len(classnames)-1)])\n",
        "plt.axis('off')\n",
        "plt.imshow(img)\n",
        "\n",
        "# Use the classifier to predict the class\n",
        "model = models.load_model(modelFileName) # loads the saved model\n",
        "class_idx = predict_image(model, img)\n",
        "print (classnames[class_idx])"
      ],
      "outputs": [
        {
          "output_type": "stream",
          "name": "stdout",
          "text": [
            "triangle\n"
          ]
        },
        {
          "output_type": "display_data",
          "data": {
            "text/plain": "<Figure size 432x288 with 1 Axes>",
            "image/png": "[encoded data removed]"
          },
          "metadata": {
            "needs_background": "light"
          }
        }
      ],
      "execution_count": 10,
      "metadata": {
        "tags": [],
        "gather": {
          "logged": 1616672281548
        }
      }
    },
    {
      "cell_type": "markdown",
      "source": [
        "## Further Reading\n",
        "\n",
        "To learn more about training convolutional neural networks with TensorFlow, see the [TensorFlow documentation](https://www.tensorflow.org/overview).\n",
        "\n",
        "## Challenge: Safari Image Classification\n",
        "\n",
        "Hopefully this notebook has shown you the main steps in training and evaluating a CNN. Why not put what you've learned into practice with our Safari image classification challenge in the [/challenges/05 - Safari CNN Challenge.ipynb](./challenges/05%20-%20Safari%20CNN%20Challenge.ipynb) notebook?\n",
        "\n",
        "> **Note**: The time to complete this optional challenge is not included in the estimated time for this exercise - you can spend as little or as much time on it as you like!"
      ],
      "metadata": {}
    }
  ],
  "metadata": {
    "kernelspec": {
      "name": "python3-azureml",
      "language": "python",
      "display_name": "Python 3.6 - AzureML"
    },
    "language_info": {
      "name": "python",
      "version": "3.6.9",
      "mimetype": "text/x-python",
      "codemirror_mode": {
        "name": "ipython",
        "version": 3
      },
      "pygments_lexer": "ipython3",
      "nbconvert_exporter": "python",
      "file_extension": ".py"
    },
    "kernel_info": {
      "name": "python3-azureml"
    },
    "nteract": {
      "version": "nteract-front-end@1.0.0"
    }
  },
  "nbformat": 4,
  "nbformat_minor": 2
}